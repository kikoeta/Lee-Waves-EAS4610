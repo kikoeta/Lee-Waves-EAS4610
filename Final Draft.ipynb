{
 "cells": [
  {
   "cell_type": "markdown",
   "id": "262dfae0-44fc-40a9-970b-21c068fdf0a4",
   "metadata": {},
   "source": [
    "# Mountain Lee Waves\n",
    "\n",
    "### Linear Model"
   ]
  },
  {
   "cell_type": "markdown",
   "id": "5eedfa51-4c59-4f0c-a0de-17aa96e7ee31",
   "metadata": {},
   "source": [
    "Single equation for vertical velocity is\n",
    "## $$ \\frac{\\partial^2w}{\\partial x^2} + \\frac{\\partial^2w}{\\partial z^2} + \\ell^2 w= 0$$\n",
    "\n",
    "where x is the horizontal coordinate perpendicular to the ridgeline, z is the vertical component, and\n",
    "\n",
    "## $$ \\ell^2 = \\frac{N^2}{U^2} - \\frac{1}{U} \\frac{d^2 U}{dz^2} $$\n",
    "\n",
    "is the Scorer parameter where U(z) is the speed of basic state flow and N(z) is the buoyancy frequency. This can be defined as:\n",
    "\n",
    "## $$ N^2 = \\frac{g}{\\theta_0} \\frac{d\\bar\\theta}{dz} $$\n",
    "\n",
    "Where \\bar theta(z) is the basic-state potential temperature and theta_0 is a constant reference potential temperature"
   ]
  },
  {
   "cell_type": "markdown",
   "id": "1650ac8f-8af6-4dd3-9457-33d945dd0b3e",
   "metadata": {},
   "source": [
    "Lower BC:\n",
    "In order to assure the physical relevance of mathematical solutions to (1) in the infinitely deep atmosphere, those solutions must satisfy one of two possible conditions: either (i) the perturbation energy density must approach zero as z → ∞, or (ii) if the perturbation energy density is finite as z → ∞, then the perturbation energy flux associated with each individual vertically propagating mode must be upward.\n",
    "\n",
    "## $$ w(x, z) = \\bar w_1(z)\\cos kx + \\bar w_2 (z) \\sin kx $$"
   ]
  },
  {
   "cell_type": "code",
   "execution_count": null,
   "id": "104e445b-9903-4fe1-8c20-72c0e393734a",
   "metadata": {},
   "outputs": [],
   "source": []
  }
 ],
 "metadata": {
  "kernelspec": {
   "display_name": "Python 3 (ipykernel)",
   "language": "python",
   "name": "python3"
  },
  "language_info": {
   "codemirror_mode": {
    "name": "ipython",
    "version": 3
   },
   "file_extension": ".py",
   "mimetype": "text/x-python",
   "name": "python",
   "nbconvert_exporter": "python",
   "pygments_lexer": "ipython3",
   "version": "3.11.4"
  }
 },
 "nbformat": 4,
 "nbformat_minor": 5
}
